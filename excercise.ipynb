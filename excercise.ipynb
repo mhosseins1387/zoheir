{
 "cells": [
  {
   "cell_type": "code",
   "execution_count": 3,
   "metadata": {},
   "outputs": [
    {
     "name": "stdout",
     "output_type": "stream",
     "text": [
      "24\n"
     ]
    }
   ],
   "source": [
    "n = int(input())\n",
    "list = []\n",
    "x = 1\n",
    "for i in range(1,n+1):\n",
    "    list.append(i)\n",
    "for i in range(len(list)):\n",
    "    x = x*list[i]\n",
    "print(x) \n"
   ]
  },
  {
   "cell_type": "code",
   "execution_count": 10,
   "metadata": {},
   "outputs": [
    {
     "name": "stdout",
     "output_type": "stream",
     "text": [
      "1 : 1 , 2 : 4 , 3 : 9 , 4 : 16 , 5 : 25 , 6 : 36 , 7 : 49 , 8 : 64 , 9 : 81 , 10 : 100 , 11 : 121 , 12 : 144\n"
     ]
    }
   ],
   "source": [
    "n = int(input())\n",
    "x = 1\n",
    "for i in range(1,n):\n",
    "    x = i**2\n",
    "    print(i,end=\" : \")\n",
    "    print(x,end=\" , \")\n",
    "print(i+1,end=\" : \")\n",
    "print((i+1)**2)"
   ]
  },
  {
   "cell_type": "code",
   "execution_count": 11,
   "metadata": {},
   "outputs": [
    {
     "name": "stdout",
     "output_type": "stream",
     "text": [
      "[4, 5, 6, 4, 6]\n",
      "sum of all elements in list is: 25\n"
     ]
    }
   ],
   "source": [
    "count= int(input('how many numbers you want to enter: '))\n",
    "list = []\n",
    "for i in range(count):\n",
    "    list.append(int(input('Enter number: ')))\n",
    "print(list)\n",
    "print('sum of all elements in list is:',sum(list))"
   ]
  },
  {
   "cell_type": "code",
   "execution_count": 6,
   "metadata": {},
   "outputs": [
    {
     "name": "stdout",
     "output_type": "stream",
     "text": [
      "kamran\n"
     ]
    }
   ],
   "source": [
    "import random\n",
    "list = ['ali','ahmed','kamran','raza','shahid','khalid','nadeem','noman','shahzad','nadeem']\n",
    "print(random.choice(list))"
   ]
  },
  {
   "cell_type": "code",
   "execution_count": 7,
   "metadata": {},
   "outputs": [
    {
     "name": "stdout",
     "output_type": "stream",
     "text": [
      "[1, 2, 3, 4, 5, 6, 7, 8, 9, 10]\n"
     ]
    }
   ],
   "source": [
    "list = [1,2,3,4,5,6,7,8,9,10]\n",
    "l = []\n",
    "for x in list :\n",
    "    l.append(x)\n",
    "print(l)\n"
   ]
  }
 ],
 "metadata": {
  "kernelspec": {
   "display_name": "Python 3",
   "language": "python",
   "name": "python3"
  },
  "language_info": {
   "codemirror_mode": {
    "name": "ipython",
    "version": 3
   },
   "file_extension": ".py",
   "mimetype": "text/x-python",
   "name": "python",
   "nbconvert_exporter": "python",
   "pygments_lexer": "ipython3",
   "version": "3.13.0"
  }
 },
 "nbformat": 4,
 "nbformat_minor": 2
}
